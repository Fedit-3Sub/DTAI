{
 "cells": [
  {
   "cell_type": "code",
   "execution_count": 3,
   "metadata": {},
   "outputs": [],
   "source": [
    "from pymongo import MongoClient\n",
    "import scipy.io\n",
    "import numpy as np\n",
    "import gridfs\n",
    "import os\n",
    "from tqdm import tqdm\n",
    "from glob import glob\n",
    "from PIL import Image\n",
    "import io\n",
    "import pandas as pd"
   ]
  },
  {
   "cell_type": "markdown",
   "metadata": {},
   "source": [
    "연결테스트"
   ]
  },
  {
   "cell_type": "code",
   "execution_count": null,
   "metadata": {},
   "outputs": [],
   "source": [
    "# MongoDB 클라이언트에 연결\n",
    "client = MongoClient(\"mongodb://172.17.0.9:27017\")\n",
    "\n",
    "try:\n",
    "    # 'admin' 데이터베이스에서 ping 명령 실행\n",
    "    client.admin.command(\"ping\")\n",
    "    print(\"MongoDB 서버에 정상적으로 연결되었습니다.\")\n",
    "except Exception as e:\n",
    "    print(\"MongoDB 서버에 연결할 수 없습니다:\", e)"
   ]
  },
  {
   "cell_type": "markdown",
   "metadata": {},
   "source": [
    "데이터삽입\n",
    "1. boundary (.mat) -> array 추출 -> 저장\n",
    "2. geometry (.png) -> 저장\n",
    "3. solve (.csv) -> 저장"
   ]
  },
  {
   "cell_type": "code",
   "execution_count": 5,
   "metadata": {},
   "outputs": [],
   "source": [
    "# MongoDB 연결 설정\n",
    "client = MongoClient(\"mongodb://172.17.0.9:27017\")\n",
    "db = client[\"simulation_data\"]\n",
    "\n",
    "# 컬렉션 지정\n",
    "collection_boundary = db[\"boundary_data\"]\n",
    "collection_solve = db[\"solve_data\"]\n",
    "collection_preprocessed = db[\"preprocessed_data\"]\n",
    "\n",
    "# Geometry 데이터는 이미지라서 별도 설정\n",
    "collection_geometry_fs = gridfs.GridFS(db, collection=\"geometry_data\")\n",
    "\n",
    "# 데이터 지정\n",
    "BOUNDARY_PATH = \"dataset/raw/Boundary/*\"\n",
    "SOLVE_PATH = \"dataset/raw/Solve/*\"\n",
    "GEO_PATH = \"dataset/raw/Subd/*\"\n",
    "PREPROCESSED_PATH = \"dataset/preprocessed/*\"\n",
    "boundary_lst = sorted(glob(BOUNDARY_PATH))\n",
    "solve_data_lst = sorted(glob(SOLVE_PATH))\n",
    "geometry_data_lst = sorted(glob(GEO_PATH))\n",
    "preprocessed_data_lst = sorted(glob(PREPROCESSED_PATH))"
   ]
  },
  {
   "cell_type": "markdown",
   "metadata": {},
   "source": [
    "Boundary 데이터 삽입"
   ]
  },
  {
   "cell_type": "code",
   "execution_count": null,
   "metadata": {},
   "outputs": [],
   "source": [
    "# Boundary 데이터 지정\n",
    "for boundary_path in tqdm(boundary_lst):\n",
    "    idx = boundary_path.split(\"/\")[-1].split(\"_\")[0]\n",
    "    boundary = np.array(scipy.io.loadmat(boundary_path)['Boundary'])\n",
    "    boundary = np.where(boundary==5,0,boundary)\n",
    "\n",
    "    # 배열을 리스트 형식으로 변환하여 MongoDB에 저장\n",
    "    boundary_document = {\n",
    "        \"index\":idx,\n",
    "        \"data\": boundary.tolist(),  # 배열 데이터를 리스트로 저장\n",
    "        \"shape\": boundary.shape,    # 배열의 shape 저장\n",
    "    }\n",
    "\n",
    "    # 기존 문서가 있는지 확인\n",
    "    if not collection_boundary.find_one({\"index\": idx}):\n",
    "        collection_boundary.insert_one(boundary_document)\n",
    "    else:\n",
    "        print(f\"{idx} 인덱스의 문서가 이미 존재합니다.\")"
   ]
  },
  {
   "cell_type": "code",
   "execution_count": null,
   "metadata": {},
   "outputs": [],
   "source": [
    "# 문서 갯수 확인\n",
    "document_count = collection_boundary.count_documents({})\n",
    "print(f\"총 문서 개수: {document_count}\")\n",
    "\n",
    "# 데이터결과 한개씩 확인\n",
    "matching_documents = collection_boundary.find()\n",
    "for doc in matching_documents:\n",
    "    print(doc['index'])\n",
    "    break"
   ]
  },
  {
   "cell_type": "code",
   "execution_count": 8,
   "metadata": {},
   "outputs": [],
   "source": [
    "matching_documents = collection_boundary.find()\n",
    "for doc in matching_documents:\n",
    "    break"
   ]
  },
  {
   "cell_type": "markdown",
   "metadata": {},
   "source": [
    "Geometry 데이터 삽입"
   ]
  },
  {
   "cell_type": "code",
   "execution_count": null,
   "metadata": {},
   "outputs": [],
   "source": [
    "for geometry_path in tqdm(geometry_data_lst):\n",
    "    idx = geometry_path.split(\"/\")[-1].split(\"_\")[0]\n",
    "    if not collection_geometry_fs.find_one({\"filename\": f\"{idx}_geometry.png\"}):\n",
    "        with open(geometry_path, \"rb\") as f:\n",
    "            collection_geometry_fs.put(f, filename=f\"{idx}_geometry.png\")\n",
    "    else:\n",
    "        print(f\"{idx} 인덱스의 문서가 이미 존재합니다.\")"
   ]
  },
  {
   "cell_type": "code",
   "execution_count": 10,
   "metadata": {},
   "outputs": [
    {
     "name": "stdout",
     "output_type": "stream",
     "text": [
      "총 파일 개수: 550\n",
      "이미지 파일을 MongoDB에서 성공적으로 읽어왔습니다.\n"
     ]
    }
   ],
   "source": [
    "# 문서 갯수 확인\n",
    "collection_geometry_files = db[\"geometry_data.files\"] # geometry_data는 collection_geometry_fs 생성시 지정했음.\n",
    "collection_geometry_chunks = db[\"geometry_data.chunks\"] # geometry_data는 collection_geometry_fs 생성시 지정했음.\n",
    "file_count = collection_geometry_files.count_documents({})\n",
    "print(f\"총 파일 개수: {file_count}\")\n",
    "\n",
    "# 데이터결과 한개씩 확인\n",
    "file_data = collection_geometry_fs.find_one({\"filename\": \"2100_geometry.png\"})\n",
    "if file_data:\n",
    "    image = Image.open(io.BytesIO(file_data.read()))\n",
    "    image.save(\"retrieved_geometry.png\")\n",
    "    print(\"이미지 파일을 MongoDB에서 성공적으로 읽어왔습니다.\")\n",
    "else:\n",
    "    print(\"해당 파일을 찾을 수 없습니다.\")"
   ]
  },
  {
   "cell_type": "code",
   "execution_count": 12,
   "metadata": {},
   "outputs": [
    {
     "data": {
      "text/plain": [
       "{'_id': ObjectId('673316538fcc2a7a6951ba75'),\n",
       " 'filename': '1651_geometry.png',\n",
       " 'chunkSize': 261120,\n",
       " 'length': 2117,\n",
       " 'uploadDate': datetime.datetime(2024, 11, 12, 8, 48, 19, 522000)}"
      ]
     },
     "execution_count": 12,
     "metadata": {},
     "output_type": "execute_result"
    }
   ],
   "source": [
    "collection_geometry_files.find_one()"
   ]
  },
  {
   "cell_type": "code",
   "execution_count": 20,
   "metadata": {},
   "outputs": [
    {
     "data": {
      "text/plain": [
       "str"
      ]
     },
     "execution_count": 20,
     "metadata": {},
     "output_type": "execute_result"
    }
   ],
   "source": [
    "type(collection_geometry_files.find_one()['filename'])"
   ]
  },
  {
   "cell_type": "markdown",
   "metadata": {},
   "source": [
    "solve 데이터 삽입"
   ]
  },
  {
   "cell_type": "code",
   "execution_count": null,
   "metadata": {},
   "outputs": [],
   "source": [
    "# solve 데이터 지정\n",
    "for solve_path in tqdm(solve_data_lst):\n",
    "    idx = solve_path.split(\"/\")[-1].split(\"_\")[0]\n",
    "    df = pd.read_csv(solve_path)\n",
    "\n",
    "    solve_document = {\n",
    "        \"index\":idx,\n",
    "        \"data\": df.to_dict('records'),\n",
    "        \"shape\": df.shape,\n",
    "    }\n",
    "\n",
    "    # 기존 문서가 있는지 확인\n",
    "    if not collection_solve.find_one({\"index\": idx}):\n",
    "        collection_solve.insert_one(solve_document)\n",
    "    else:\n",
    "        print(f\"{idx} 인덱스의 문서가 이미 존재합니다.\")"
   ]
  },
  {
   "cell_type": "code",
   "execution_count": null,
   "metadata": {},
   "outputs": [],
   "source": [
    "# 문서 갯수 확인\n",
    "document_count = collection_solve.count_documents({})\n",
    "print(f\"총 문서 개수: {document_count}\")\n",
    "\n",
    "# 데이터결과 한개씩 확인\n",
    "matching_documents = collection_solve.find()\n",
    "for doc in matching_documents:\n",
    "    print(doc['index'])\n",
    "    break"
   ]
  },
  {
   "cell_type": "markdown",
   "metadata": {},
   "source": [
    "preprocessed_data 삽입"
   ]
  },
  {
   "cell_type": "code",
   "execution_count": null,
   "metadata": {},
   "outputs": [],
   "source": [
    "# solve 데이터 지정\n",
    "for preprocessed_path in tqdm(preprocessed_data_lst):\n",
    "    idx = preprocessed_path.split(\"/\")[-1].split(\"_\")[0]\n",
    "    df = pd.read_csv(preprocessed_path)\n",
    "\n",
    "    preprocessed_document = {\n",
    "        \"index\":idx,\n",
    "        \"data\": df.to_dict('records'),\n",
    "        \"shape\": df.shape,\n",
    "    }\n",
    "\n",
    "    # 기존 문서가 있는지 확인\n",
    "    if not collection_preprocessed.find_one({\"index\": idx}):\n",
    "        collection_preprocessed.insert_one(preprocessed_document)\n",
    "    else:\n",
    "        print(f\"{idx} 인덱스의 문서가 이미 존재합니다.\")"
   ]
  },
  {
   "cell_type": "code",
   "execution_count": null,
   "metadata": {},
   "outputs": [],
   "source": [
    "# 문서 갯수 확인\n",
    "document_count = collection_preprocessed.count_documents({})\n",
    "print(f\"총 문서 개수: {document_count}\")\n",
    "\n",
    "# 데이터결과 한개씩 확인\n",
    "matching_documents = collection_preprocessed.find()\n",
    "for doc in matching_documents:\n",
    "    print(doc['index'])\n",
    "    break"
   ]
  },
  {
   "cell_type": "code",
   "execution_count": null,
   "metadata": {},
   "outputs": [],
   "source": [
    "collection_preprocessed.find_one({\"index\":\"1651\"}).keys()"
   ]
  },
  {
   "cell_type": "markdown",
   "metadata": {},
   "source": [
    "삭제"
   ]
  },
  {
   "cell_type": "code",
   "execution_count": 37,
   "metadata": {},
   "outputs": [],
   "source": [
    "# boundary 데이터 삭제\n",
    "collection_boundary.delete_many({})\n",
    "\n",
    "# solve 데이터 삭제\n",
    "collection_solve.delete_many({})\n",
    "\n",
    "# geometry 데이터 삭제\n",
    "file_ids = [file[\"_id\"] for file in db[\"geometry_data.files\"].find()]\n",
    "for file_id in file_ids:\n",
    "    collection_geometry_fs.delete(file_id)"
   ]
  }
 ],
 "metadata": {
  "kernelspec": {
   "display_name": "my_poetry_env",
   "language": "python",
   "name": "my_poetry_env"
  },
  "language_info": {
   "codemirror_mode": {
    "name": "ipython",
    "version": 3
   },
   "file_extension": ".py",
   "mimetype": "text/x-python",
   "name": "python",
   "nbconvert_exporter": "python",
   "pygments_lexer": "ipython3",
   "version": "3.10.12"
  }
 },
 "nbformat": 4,
 "nbformat_minor": 2
}

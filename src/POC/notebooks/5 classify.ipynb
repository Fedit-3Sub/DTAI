{
 "cells": [
  {
   "cell_type": "code",
   "execution_count": 1,
   "metadata": {},
   "outputs": [],
   "source": [
    "import json\n",
    "import numpy as np"
   ]
  },
  {
   "cell_type": "code",
   "execution_count": 26,
   "metadata": {},
   "outputs": [],
   "source": [
    "data = json.load(open('../result/prediction/20241019_06:52:56_sample.json'))"
   ]
  },
  {
   "cell_type": "code",
   "execution_count": 43,
   "metadata": {},
   "outputs": [],
   "source": [
    "# https://www.airkorea.or.kr/web/khaiInfo?pMENU_NO=129\n",
    "def apply_pm10_class(value):\n",
    "    if value <= 30:\n",
    "        return \"좋음\"\n",
    "    elif value <= 80:\n",
    "        return \"보통\"\n",
    "    elif value <= 150:\n",
    "        return \"나쁨\"\n",
    "    elif value <= 600:\n",
    "        return \"매우나쁨\"\n",
    "    else:\n",
    "        return ValueError\n",
    "    \n",
    "def apply_pm25_class(value):\n",
    "    if value <= 15:\n",
    "        return \"좋음\"\n",
    "    elif value <= 35:\n",
    "        return \"보통\"\n",
    "    elif value <= 75:\n",
    "        return \"나쁨\"\n",
    "    elif value <= 500:\n",
    "        return \"매우나쁨\"\n",
    "    else:\n",
    "        return ValueError\n",
    "    \n",
    "def apply_total_class(pm10_total_class,pm25_total_class):\n",
    "    mapping = {\n",
    "        \"좋음\": 1,\n",
    "        \"보통\": 2,\n",
    "        \"나쁨\": 3,\n",
    "        \"매우나쁨\": 4\n",
    "    }\n",
    "    val_pm10_total_class = mapping[pm10_total_class]\n",
    "    val_pm25_total_class = mapping[pm25_total_class]\n",
    "    weights_sum = val_pm10_total_class*0.3+val_pm25_total_class*0.7\n",
    "    if weights_sum < 1.5:\n",
    "        return \"좋음\"\n",
    "    elif weights_sum < 2.6:\n",
    "        return \"보통\"\n",
    "    elif weights_sum < 3.6:\n",
    "        return \"나쁨\"\n",
    "    else:\n",
    "        return \"매우나쁨\""
   ]
  },
  {
   "cell_type": "code",
   "execution_count": 47,
   "metadata": {},
   "outputs": [
    {
     "data": {
      "text/plain": [
       "dict_keys(['location', '1_hour', '2_hour'])"
      ]
     },
     "execution_count": 47,
     "metadata": {},
     "output_type": "execute_result"
    }
   ],
   "source": [
    "data.keys()"
   ]
  },
  {
   "cell_type": "code",
   "execution_count": 48,
   "metadata": {},
   "outputs": [],
   "source": [
    "import copy\n",
    "new_data = copy.deepcopy(data)\n",
    "pm10_average_lst = []\n",
    "pm25_average_lst = []\n",
    "for key in new_data.keys():\n",
    "    if key=='location':\n",
    "        continue\n",
    "    pm10_average = np.mean(np.array([i for i in new_data[key]['pm10'] if i!=0]))\n",
    "    pm10_average_lst.append(pm10_average)\n",
    "    pm10_class = apply_pm10_class(pm10_average)\n",
    "    new_data[key]['pm10_level_per_hour'] = pm10_class\n",
    "    pm25_average = np.mean(np.array([i for i in new_data[key]['pm25'] if i!=0]))\n",
    "    pm25_average_lst.append(pm25_average)\n",
    "    pm25_class = apply_pm25_class(pm25_average)\n",
    "    new_data[key]['pm25_level_per_hour'] = pm25_class\n",
    "pm10_total_class = apply_pm10_class(np.mean(pm10_average_lst))\n",
    "new_data['pm10_level'] = pm10_total_class\n",
    "pm25_total_class = apply_pm25_class(np.mean(pm25_average_lst))\n",
    "new_data['pm25_level'] = pm25_total_class\n",
    "pm_total_class = apply_total_class(pm10_total_class,pm25_total_class)\n",
    "new_data['pm_total_level'] = pm_total_class"
   ]
  },
  {
   "cell_type": "code",
   "execution_count": 52,
   "metadata": {},
   "outputs": [
    {
     "data": {
      "text/plain": [
       "dict_keys(['pm10', 'pm25', 'pm10_level_per_hour', 'pm25_level_per_hour'])"
      ]
     },
     "execution_count": 52,
     "metadata": {},
     "output_type": "execute_result"
    }
   ],
   "source": [
    "new_data['1_hour'].keys()"
   ]
  }
 ],
 "metadata": {
  "kernelspec": {
   "display_name": "base",
   "language": "python",
   "name": "python3"
  },
  "language_info": {
   "codemirror_mode": {
    "name": "ipython",
    "version": 3
   },
   "file_extension": ".py",
   "mimetype": "text/x-python",
   "name": "python",
   "nbconvert_exporter": "python",
   "pygments_lexer": "ipython3",
   "version": "3.10.9"
  },
  "orig_nbformat": 4
 },
 "nbformat": 4,
 "nbformat_minor": 2
}

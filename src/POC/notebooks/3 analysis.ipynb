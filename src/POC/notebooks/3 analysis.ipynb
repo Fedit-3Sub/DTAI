{
 "cells": [
  {
   "cell_type": "code",
   "execution_count": 1,
   "metadata": {},
   "outputs": [],
   "source": [
    "import numpy as np\n",
    "import pandas as pd\n",
    "import seaborn as sns\n",
    "import matplotlib.pyplot as plt\n",
    "from src.model.model import *\n",
    "from sklearn.preprocessing import MinMaxScaler\n",
    "from sklearn.ensemble import RandomForestRegressor\n",
    "from sklearn.model_selection import train_test_split\n",
    "from sklearn.metrics import mean_squared_error\n",
    "from sklearn.metrics import r2_score"
   ]
  },
  {
   "cell_type": "code",
   "execution_count": 2,
   "metadata": {},
   "outputs": [],
   "source": [
    "def select_inout(dftest):\n",
    "    # 결측치 처리\n",
    "    for strname in list(dftest.columns):\n",
    "        dftest[strname]=dftest[strname].fillna((dftest[strname].ffill()+\\\n",
    "                                                dftest[strname].bfill())/2)\n",
    "        \n",
    "    # 입출력지정하기위해 target col 추가\n",
    "    time_delta = 1\n",
    "    dftest[\"target\"]=list(dftest[\"pm10_value\"].values[time_delta:])+[0]*time_delta\n",
    "    dftest = dftest[:-(time_delta)]\n",
    "\n",
    "    # 스케일링\n",
    "    scaler = MinMaxScaler()\n",
    "    scaled_data = scaler.fit_transform(dftest)\n",
    "    scaled_df = pd.DataFrame(scaled_data, columns=dftest.columns)\n",
    "\n",
    "    # 데이터지정\n",
    "    data = np.array(scaled_df.drop([\"pm25_value\"],axis=1))\n",
    "\n",
    "    X = data[:,:-1]\n",
    "    y = data[:,-1]\n",
    "    return X,y"
   ]
  },
  {
   "cell_type": "code",
   "execution_count": 189,
   "metadata": {},
   "outputs": [],
   "source": [
    "# 파일 로드 \n",
    "df = pd.read_csv(\"dataset/merged_df.csv\") \n",
    "df = df[df[\"date_time\"]>\"2023-08-25 00:00:00\"] # 기상데이터가 있는 기간부터"
   ]
  },
  {
   "cell_type": "code",
   "execution_count": 190,
   "metadata": {},
   "outputs": [
    {
     "name": "stdout",
     "output_type": "stream",
     "text": [
      "R2 Score: 0.7641756018542857\n",
      "R2 Score: 0.7759790981376173\n",
      "R2 Score: 0.6352679236449844\n",
      "R2 Score: 0.5934343620680118\n",
      "R2 Score: 0.6001121383704623\n",
      "R2 Score: 0.49178457451995694\n",
      "R2 Score: 0.739137721796626\n",
      "R2 Score: 0.5140077631466398\n",
      "R2 Score: 0.5400031641974268\n",
      "R2 Score: 0.48511494666903365\n",
      "R2 Score: 0.766190853724932\n",
      "R2 Score: 0.5556977624945063\n",
      "0.621742159218707\n"
     ]
    }
   ],
   "source": [
    "r2_score_lst = []\n",
    "for pos_num in range(1,13):\n",
    "    dftest = df[df[\"measure_position_id\"]==pos_num]\n",
    "    dftest = dftest.drop([\"date_time\",\"measure_position_id\",\"type\",\"name\",\n",
    "                        \"latitude\",\"longitude\",\"district_code\"],axis=1)\n",
    "    dftest = dftest[:-2]\n",
    "    \n",
    "    X,y = select_inout(dftest)\n",
    "\n",
    "    # 데이터 분할\n",
    "    X_train, X_test, y_train, y_test = train_test_split(X, y, test_size=0.2, random_state=42)\n",
    "\n",
    "    # Random Forest 회귀 모델 초기화\n",
    "    rf_regressor = RandomForestRegressor(n_estimators=100, random_state=42)\n",
    "\n",
    "    # 모델 학습\n",
    "    rf_regressor.fit(X_train, y_train)\n",
    "\n",
    "    # 테스트 데이터에 대한 예측\n",
    "    y_pred = rf_regressor.predict(X_test)\n",
    "\n",
    "    # 예측 결과 평가 (예: 평균 제곱 오차)\n",
    "    mse = mean_squared_error(y_test, y_pred)\n",
    "    r2 = r2_score(y_test, y_pred)\n",
    "    r2_score_lst.append(r2)\n",
    "    print(f\"R2 Score: {r2}\")\n",
    "    \n",
    "print(sum(r2_score_lst)/len(r2_score_lst))"
   ]
  }
 ],
 "metadata": {
  "kernelspec": {
   "display_name": "base",
   "language": "python",
   "name": "python3"
  },
  "language_info": {
   "codemirror_mode": {
    "name": "ipython",
    "version": 3
   },
   "file_extension": ".py",
   "mimetype": "text/x-python",
   "name": "python",
   "nbconvert_exporter": "python",
   "pygments_lexer": "ipython3",
   "version": "3.10.12"
  }
 },
 "nbformat": 4,
 "nbformat_minor": 2
}

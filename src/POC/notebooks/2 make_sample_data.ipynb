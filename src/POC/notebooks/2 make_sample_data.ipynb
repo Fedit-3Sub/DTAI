{
 "cells": [
  {
   "cell_type": "markdown",
   "metadata": {},
   "source": [
    "## Info\n",
    "\n",
    "- 테스트환경임\n",
    "- API 리턴 데이터 형태를 지정\n",
    "    - 보간설정, GPS 값으로 위치값 변환 등"
   ]
  },
  {
   "cell_type": "code",
   "execution_count": 7,
   "metadata": {},
   "outputs": [],
   "source": [
    "import json\n",
    "import pandas as pd\n",
    "import numpy as np\n",
    "import matplotlib.pyplot as plt\n",
    "from scipy.interpolate import griddata\n",
    "from sklearn.preprocessing import MinMaxScaler\n"
   ]
  },
  {
   "cell_type": "markdown",
   "metadata": {},
   "source": [
    "## 0. 데이터 로드 및 전처리"
   ]
  },
  {
   "cell_type": "markdown",
   "metadata": {},
   "source": [
    "데이터 로드"
   ]
  },
  {
   "cell_type": "code",
   "execution_count": 9,
   "metadata": {},
   "outputs": [],
   "source": [
    "# 공기품질 데이터 로드\n",
    "df_airquality = pd.read_csv(\"data/air_quality_data.csv\") \n",
    "airquality = df_airquality[[\"date_time\",\"measure_position_id\",\"pm10_value\",\"pm25_value\"]]\n",
    "\n",
    "# 위치 데이터 로드\n",
    "df_position = pd.read_csv(\"data/position_data.csv\")\n",
    "position = df_position[(df_position['id']>=1) & (df_position['id']<=12)].iloc[:12,:] # 위치값 1~12만 사용\n",
    "position.rename(columns={\"id\":\"measure_position_id\"},inplace=True) # 컬럼명 변경"
   ]
  },
  {
   "cell_type": "markdown",
   "metadata": {},
   "source": [
    "데이터 결합 및 데이터프레임 생성\n",
    "- 위치 id 기준\n",
    "- 결측치 채움\n",
    "- 스케일링"
   ]
  },
  {
   "cell_type": "code",
   "execution_count": 10,
   "metadata": {},
   "outputs": [],
   "source": [
    "# 공기품질 데이터 + 위치 데이터 결합 (위치id 기준)\n",
    "merged_df = pd.merge(airquality, position, on='measure_position_id', how='left')\n",
    "merged_df['measure_position_id'] = merged_df['measure_position_id'].astype(\"float64\")\n",
    "merged_df.drop(\"grid_x\",axis=1,inplace=True)\n",
    "merged_df.drop(\"grid_y\",axis=1,inplace=True)\n",
    "merged_df.drop(\"type\",axis=1,inplace=True)\n",
    "merged_df.drop(\"district_code\",axis=1,inplace=True)\n",
    "merged_df.drop(\"name\",axis=1,inplace=True)\n",
    "\n",
    "# 결측치 채우기\n",
    "merged_df[\"pm10_value\"] = merged_df['pm10_value'].fillna((merged_df[\"pm10_value\"].ffill()+\\\n",
    "                                                          merged_df[\"pm10_value\"].bfill())/2)\n",
    "merged_df[\"pm25_value\"] = merged_df['pm25_value'].fillna((merged_df[\"pm25_value\"].ffill()+\\\n",
    "                                                          merged_df[\"pm25_value\"].bfill())/2)\n",
    "\n",
    "# 경도(X)와 위도(Y) 스케일링 (0~1)\n",
    "scaler_X = MinMaxScaler() \n",
    "X_data = merged_df[\"longitude\"].values.reshape(-1,1)\n",
    "X_data = scaler_X.fit_transform(X_data)\n",
    "scaler_Y = MinMaxScaler() \n",
    "Y_data = merged_df[\"latitude\"].values.reshape(-1,1)\n",
    "Y_data = scaler_Y.fit_transform(Y_data)\n",
    "\n",
    "# 데이터프레임에 삽입\n",
    "merged_df[\"new_longitude\"]=X_data\n",
    "merged_df[\"new_latitude\"]=Y_data\n",
    "\n",
    "# 저장\n",
    "merged_df.to_csv(\"data/merged_df.csv\")"
   ]
  },
  {
   "cell_type": "markdown",
   "metadata": {},
   "source": [
    "위치정보 파일 생성\n",
    "- 임시로 생성 (향후 사용안할 수 있음.)"
   ]
  },
  {
   "cell_type": "code",
   "execution_count": 11,
   "metadata": {},
   "outputs": [],
   "source": [
    "# config 파일 생성\n",
    "longitude = merged_df[:12][\"longitude\"].values # x\n",
    "latitude = merged_df[:12][\"latitude\"].values # y\n",
    "new_longitude = merged_df[:12][\"new_longitude\"].values # x\n",
    "new_latitude = merged_df[:12][\"new_latitude\"].values # y\n",
    "pos_id = merged_df[:12][\"measure_position_id\"].values\n",
    "save_dict_config = {}\n",
    "for pos,lo,la,newlo,newla in zip(pos_id,longitude,latitude,new_longitude,new_latitude):\n",
    "    if not save_dict_config.get(pos):\n",
    "        save_dict_config[pos]={\"longitude\":lo,\n",
    "                        \"latitude\":la,\n",
    "                        \"new_longitude\":newlo,\n",
    "                        \"new_latitude\":newla,}\n",
    "    else:\n",
    "        pass\n",
    "\n",
    "# JSON 파일로 저장\n",
    "with open(\"configs/position_info.json\", \"w\") as json_file:\n",
    "    json.dump(save_dict_config, json_file, indent=4)"
   ]
  },
  {
   "cell_type": "markdown",
   "metadata": {},
   "source": [
    "## 1. 위치(GPS) 데이터 생성\n",
    "- 앞서 실제 경도,위도 기준으로 min-max scaler fit (0~1) 을 하였음.\n",
    "- 생성할 배열은 가로 80, 세로 40\n",
    "- 생성한 배열의 좌표값을 inverse scaling 하면 원래 GPS X,Y 추출 가능"
   ]
  },
  {
   "cell_type": "code",
   "execution_count": 17,
   "metadata": {},
   "outputs": [],
   "source": [
    "# x와 y를 스케일링하여 2차원 배열 생성\n",
    "x_values = np.linspace(0, 1, 80)\n",
    "y_values = np.linspace(0, 1, 40)\n",
    "\n",
    "# gps 값\n",
    "gps_x_values = scaler_X.inverse_transform(x_values.reshape(-1,1))\n",
    "gps_y_values = scaler_Y.inverse_transform(y_values.reshape(-1,1))\n",
    "\n",
    "gps_x_pos = []\n",
    "gps_y_pos = []\n",
    "for yy in gps_y_values:\n",
    "    for xx in gps_x_values:\n",
    "       gps_x_pos.append(xx)\n",
    "       gps_y_pos.append(yy)\n",
    "gps_x_pos = np.array(gps_x_pos)\n",
    "gps_y_pos = np.array(gps_y_pos)\n",
    "gps_x_pos_save = gps_x_pos.flatten().tolist()\n",
    "gps_y_pos_save = gps_y_pos.flatten().tolist()"
   ]
  },
  {
   "cell_type": "markdown",
   "metadata": {},
   "source": [
    "## 2. sample data 생성\n",
    "- 특정 날짜 기준으로 (위치, 시간, 미세먼지값) 데이터 생성"
   ]
  },
  {
   "cell_type": "code",
   "execution_count": 23,
   "metadata": {},
   "outputs": [],
   "source": [
    "def make_sample_data(time,merged_df,x_values,y_values):\n",
    "    \n",
    "    # 사용할 날짜 지정 (특정시간이기 때문에, 데이터길이 12임)\n",
    "    temp_df = merged_df[merged_df[\"date_time\"]==time]\n",
    "\n",
    "    # 사용할 값\n",
    "    use_x = temp_df[\"new_longitude\"].values\n",
    "    use_y = temp_df[\"new_latitude\"].values\n",
    "    use_pm10 = temp_df[\"pm10_value\"].values\n",
    "    use_pm25 = temp_df[\"pm25_value\"].values\n",
    "\n",
    "    # 보간하기위한 값들 지정 (pm10, pm25, 위치값(배열))) \n",
    "    ust_point_lst = []\n",
    "    pm10_lst = []\n",
    "    pm25_lst = []\n",
    "    for x,y,pm10,pm25 in zip(use_x,use_y,use_pm10,use_pm25):\n",
    "        temp_x = np.abs(x_values-x)\n",
    "        temp_y = np.abs(y_values-y)\n",
    "        point_x = np.where(temp_x==np.min(temp_x))[0][0] # 오차가 제일 작은 위치\n",
    "        point_y = np.where(temp_y==np.min(temp_y))[0][0] # 오차가 제일 작은 위치\n",
    "        ust_point_lst.append([point_x,point_y]) # 오차가 제일 작은 위치(x,y) 저장 \n",
    "        pm10_lst.append(pm10)\n",
    "        pm25_lst.append(pm25)\n",
    "    ust_point_lst = np.array(ust_point_lst) # 길이 12\n",
    "    pm10_lst = np.array(pm10_lst) # 길이 12\n",
    "    pm25_lst = np.array(pm25_lst) # 길이 12\n",
    "\n",
    "    # 보간수행\n",
    "    x, y = np.meshgrid(np.arange(80), np.arange(40))\n",
    "    interpolated_values_pm10 = griddata(ust_point_lst, pm10_lst, (x, y), method='linear', fill_value=0)\n",
    "    interpolated_values_pm25 = griddata(ust_point_lst, pm25_lst, (x, y), method='linear', fill_value=0)\n",
    "    return interpolated_values_pm10,interpolated_values_pm25"
   ]
  },
  {
   "cell_type": "code",
   "execution_count": 31,
   "metadata": {},
   "outputs": [],
   "source": [
    "# return 할 sample data dict 생성\n",
    "save_dict = {\"location\":{\"gps_x\":gps_x_pos_save,\n",
    "                         \"gps_y\":gps_y_pos_save}}\n",
    "\n",
    "# 원하는 시간범위\n",
    "times = sorted(list(set(merged_df[(merged_df[\"date_time\"]>=\"2023-08-24 00:00:00\") & (merged_df[\"date_time\"]<=\"2023-08-27 00:00:00\")][\"date_time\"].values)))\n",
    "for time in times:\n",
    "    interpolated_values_pm10,interpolated_values_pm25 = make_sample_data(time,merged_df,x_values,y_values)\n",
    "    pm10_result = interpolated_values_pm10.flatten().tolist()\n",
    "    pm25_result = interpolated_values_pm25.flatten().tolist()\n",
    "    save_dict[time]={\"pm10\":pm10_result,\n",
    "                     \"pm25\":pm25_result}\n",
    "\n",
    "# 저장\n",
    "with open(\"result/sample/sample_data.json\",\"w\") as json_file:\n",
    "    json.dump(save_dict,json_file,indent=4)"
   ]
  },
  {
   "cell_type": "markdown",
   "metadata": {},
   "source": [
    "## 3. Plotting"
   ]
  },
  {
   "cell_type": "code",
   "execution_count": 37,
   "metadata": {},
   "outputs": [
    {
     "data": {
      "text/plain": [
       "<matplotlib.colorbar.Colorbar at 0x7f5cc42362f0>"
      ]
     },
     "execution_count": 37,
     "metadata": {},
     "output_type": "execute_result"
    },
    {
     "data": {
      "image/png": "[encoded data removed]",
      "text/plain": [
       "<Figure size 640x480 with 2 Axes>"
      ]
     },
     "metadata": {},
     "output_type": "display_data"
    }
   ],
   "source": [
    "arr = np.array(save_dict['2023-08-24 00:00:00']['pm10'])\n",
    "plt.imshow(arr.reshape(40,80),origin='lower')\n",
    "plt.colorbar()"
   ]
  }
 ],
 "metadata": {
  "kernelspec": {
   "display_name": "Python 3",
   "language": "python",
   "name": "python3"
  },
  "language_info": {
   "codemirror_mode": {
    "name": "ipython",
    "version": 3
   },
   "file_extension": ".py",
   "mimetype": "text/x-python",
   "name": "python",
   "nbconvert_exporter": "python",
   "pygments_lexer": "ipython3",
   "version": "3.10.12"
  },
  "orig_nbformat": 4
 },
 "nbformat": 4,
 "nbformat_minor": 2
}

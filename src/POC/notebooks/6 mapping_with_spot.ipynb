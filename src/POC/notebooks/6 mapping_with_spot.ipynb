{
 "cells": [
  {
   "cell_type": "code",
   "execution_count": 1,
   "metadata": {},
   "outputs": [],
   "source": [
    "import json\n",
    "import numpy as np"
   ]
  },
  {
   "cell_type": "code",
   "execution_count": 2,
   "metadata": {},
   "outputs": [],
   "source": [
    "FDO = {\n",
    "    \"F-KR-109941-0001\":{\"positionition\":\"한라산관음사코스\",\n",
    "                        \"longitude\":126.549091,\n",
    "                        \"latitude\":33.4202376},\n",
    "    \"F-KR-109941-0002\":{\"position\":\"한라산돈내코코스\",\n",
    "                        \"longitude\":126.5702482,\n",
    "                        \"latitude\":33.3149224},\n",
    "    \"F-KR-109941-0003\":{\"position\":\"추사적거지\",\n",
    "                        \"longitude\":126.2783333,\n",
    "                        \"latitude\":33.2502778},\n",
    "    \"F-KR-109941-0004\":{\"position\":\"천제연폭포\",\n",
    "                        \"longitude\":126.4167726,\n",
    "                        \"latitude\":33.2506678},\n",
    "    \"F-KR-109941-0005\":{\"position\":\"한라산영실코스\",\n",
    "                        \"longitude\":126.5115628,\n",
    "                        \"latitude\":33.3570635},\n",
    "    \"F-KR-109941-0006\":{\"position\":\"한라산어리목코스\",\n",
    "                        \"longitude\":126.4942262,\n",
    "                        \"latitude\":33.3891192},\n",
    "    \"F-KR-109941-0007\":{\"position\":\"주상절리대(중문대포해안)\",\n",
    "                        \"longitude\":126.4250671,\n",
    "                        \"latitude\":33.2377549},\n",
    "    \"F-KR-109941-0008\":{\"position\":\"감귤박물관\",\n",
    "                        \"longitude\":126.611007,\n",
    "                        \"latitude\":33.271368},\n",
    "    \"F-KR-109941-0009\":{\"position\":\"거문오름(UNESCO 세계자연유산)\",\n",
    "                        \"longitude\":126.7179249,\n",
    "                        \"latitude\":33.4546419},\n",
    "    \"F-KR-109941-0010\":{\"position\":\"만장굴\",\n",
    "                        \"longitude\":126.7702874,\n",
    "                        \"latitude\":33.5282463},\n",
    "    \"F-KR-109941-0011\":{\"position\":\"비자림\",\n",
    "                        \"longitude\":126.8084747,\n",
    "                        \"latitude\":33.4854743},\n",
    "    \"F-KR-109941-0012\":{\"position\":\"성널오름 (성판악)\",\n",
    "                        \"longitude\":126.620511,\n",
    "                        \"latitude\":33.385032},\n",
    "    \"F-KR-109941-0013\":{\"position\":\"성산일출봉(UNESCO 세계자연유산)\",\n",
    "                        \"longitude\":126.9425,\n",
    "                        \"latitude\":33.458056},\n",
    "    \"F-KR-109941-0014\":{\"position\":\"용머리해안\",\n",
    "                        \"longitude\":126.3148321,\n",
    "                        \"latitude\":33.2316155},\n",
    "    \"F-KR-109941-0015\":{\"position\":\"정방폭포\",\n",
    "                        \"longitude\":126.5718032,\n",
    "                        \"latitude\":33.2448521},\n",
    "    \"F-KR-109941-0016\":{\"position\":\"제주목관아\",\n",
    "                        \"longitude\":126.5220324,\n",
    "                        \"latitude\":33.513623},\n",
    "    \"F-KR-109941-0017\":{\"position\":\"제주세계자연유산센터\",\n",
    "                        \"longitude\":126.7143895,\n",
    "                        \"latitude\":33.4569601},\n",
    "    \"F-KR-109941-0018\":{\"position\":\"천지연폭포\",\n",
    "                        \"longitude\":126.554417,\n",
    "                        \"latitude\":33.246944},\n",
    "    \"F-KR-109941-0019\":{\"position\":\"한라수목원\",\n",
    "                        \"longitude\":126.4932445,\n",
    "                        \"latitude\":33.4699272},\n",
    "    \"F-KR-109941-0020\":{\"position\":\"항파두리항몽유적지\",\n",
    "                        \"longitude\":126.4077366,\n",
    "                        \"latitude\":33.4520718},\n",
    "}"
   ]
  },
  {
   "cell_type": "code",
   "execution_count": 9,
   "metadata": {},
   "outputs": [],
   "source": [
    "with open(\"../data/FDO.json\", \"w\") as json_file:\n",
    "    json.dump(FDO, json_file, indent=4, ensure_ascii=False)"
   ]
  },
  {
   "cell_type": "code",
   "execution_count": 3,
   "metadata": {},
   "outputs": [],
   "source": [
    "data = json.load(open('../result/prediction/check.json'))"
   ]
  },
  {
   "cell_type": "code",
   "execution_count": 7,
   "metadata": {},
   "outputs": [
    {
     "name": "stdout",
     "output_type": "stream",
     "text": [
      "42.23078776214082\n"
     ]
    }
   ],
   "source": [
    "POS = \"F-KR-109941-0017\"\n",
    "NEW_X = np.array(data['location']['gps_x'])\n",
    "NEW_Y = np.array(data['location']['gps_y'])\n",
    "distances = np.sqrt((NEW_Y - FDO[POS]['latitude'])**2 + (NEW_X - FDO[POS]['longitude'])**2)\n",
    "closest_index = np.argmin(distances)\n",
    "closest_dust_value = data['1_hour']['pm10'][closest_index]\n",
    "print(f\"{closest_dust_value}\")"
   ]
  },
  {
   "cell_type": "code",
   "execution_count": 4,
   "metadata": {},
   "outputs": [],
   "source": [
    "import copy\n",
    "TEST_DATA = copy.deepcopy(data)"
   ]
  },
  {
   "cell_type": "code",
   "execution_count": 5,
   "metadata": {},
   "outputs": [],
   "source": [
    "del TEST_DATA['location']"
   ]
  },
  {
   "cell_type": "code",
   "execution_count": 6,
   "metadata": {},
   "outputs": [
    {
     "data": {
      "text/plain": [
       "dict_keys(['1_hour', 'pm10_level', 'pm25_level', 'pm_total_level'])"
      ]
     },
     "execution_count": 6,
     "metadata": {},
     "output_type": "execute_result"
    }
   ],
   "source": [
    "TEST_DATA.keys()"
   ]
  },
  {
   "cell_type": "code",
   "execution_count": 272,
   "metadata": {},
   "outputs": [
    {
     "data": {
      "text/plain": [
       "dict_keys(['pm10', 'pm25', 'pm10_level_per_hour', 'pm25_level_per_hour'])"
      ]
     },
     "execution_count": 272,
     "metadata": {},
     "output_type": "execute_result"
    }
   ],
   "source": [
    "TEST_DATA['1_hour'].keys()"
   ]
  }
 ],
 "metadata": {
  "kernelspec": {
   "display_name": "base",
   "language": "python",
   "name": "python3"
  },
  "language_info": {
   "codemirror_mode": {
    "name": "ipython",
    "version": 3
   },
   "file_extension": ".py",
   "mimetype": "text/x-python",
   "name": "python",
   "nbconvert_exporter": "python",
   "pygments_lexer": "ipython3",
   "version": "3.10.9"
  },
  "orig_nbformat": 4
 },
 "nbformat": 4,
 "nbformat_minor": 2
}
